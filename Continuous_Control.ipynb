{
 "cells": [
  {
   "cell_type": "markdown",
   "metadata": {},
   "source": [
    "# Continuous Control\n",
    "\n",
    "---\n",
    "\n",
    "In this notebook, you will learn how to use the Unity ML-Agents environment for the second project of the [Deep Reinforcement Learning Nanodegree](https://www.udacity.com/course/deep-reinforcement-learning-nanodegree--nd893) program.\n",
    "\n",
    "### 1. Start the Environment\n",
    "\n",
    "We begin by importing the necessary packages.  If the code cell below returns an error, please revisit the project instructions to double-check that you have installed [Unity ML-Agents](https://github.com/Unity-Technologies/ml-agents/blob/master/docs/Installation.md) and [NumPy](http://www.numpy.org/)."
   ]
  },
  {
   "cell_type": "code",
   "execution_count": 1,
   "metadata": {},
   "outputs": [],
   "source": [
    "%load_ext autoreload\n",
    "%autoreload 2"
   ]
  },
  {
   "cell_type": "code",
   "execution_count": 2,
   "metadata": {},
   "outputs": [],
   "source": [
    "from unityagents import UnityEnvironment\n",
    "from collections import deque\n",
    "import numpy as np\n",
    "import torch\n",
    "import my_agent\n",
    "#from ddpg_agent import Agent as ud_agent\n",
    "import matplotlib.pyplot as plt\n",
    "%matplotlib inline"
   ]
  },
  {
   "cell_type": "markdown",
   "metadata": {},
   "source": [
    "Next, we will start the environment!  **_Before running the code cell below_**, change the `file_name` parameter to match the location of the Unity environment that you downloaded.\n",
    "\n",
    "- **Mac**: `\"path/to/Reacher.app\"`\n",
    "- **Windows** (x86): `\"path/to/Reacher_Windows_x86/Reacher.exe\"`\n",
    "- **Windows** (x86_64): `\"path/to/Reacher_Windows_x86_64/Reacher.exe\"`\n",
    "- **Linux** (x86): `\"path/to/Reacher_Linux/Reacher.x86\"`\n",
    "- **Linux** (x86_64): `\"path/to/Reacher_Linux/Reacher.x86_64\"`\n",
    "- **Linux** (x86, headless): `\"path/to/Reacher_Linux_NoVis/Reacher.x86\"`\n",
    "- **Linux** (x86_64, headless): `\"path/to/Reacher_Linux_NoVis/Reacher.x86_64\"`\n",
    "\n",
    "For instance, if you are using a Mac, then you downloaded `Reacher.app`.  If this file is in the same folder as the notebook, then the line below should appear as follows:\n",
    "```\n",
    "env = UnityEnvironment(file_name=\"Reacher.app\")\n",
    "```"
   ]
  },
  {
   "cell_type": "code",
   "execution_count": 3,
   "metadata": {},
   "outputs": [
    {
     "name": "stderr",
     "output_type": "stream",
     "text": [
      "INFO:unityagents:\n",
      "'Academy' started successfully!\n",
      "Unity Academy name: Academy\n",
      "        Number of Brains: 1\n",
      "        Number of External Brains : 1\n",
      "        Lesson number : 0\n",
      "        Reset Parameters :\n",
      "\t\tgoal_speed -> 1.0\n",
      "\t\tgoal_size -> 5.0\n",
      "Unity brain name: ReacherBrain\n",
      "        Number of Visual Observations (per agent): 0\n",
      "        Vector Observation space type: continuous\n",
      "        Vector Observation space size (per agent): 33\n",
      "        Number of stacked Vector Observation: 1\n",
      "        Vector Action space type: continuous\n",
      "        Vector Action space size (per agent): 4\n",
      "        Vector Action descriptions: , , , \n"
     ]
    }
   ],
   "source": [
    "#env = UnityEnvironment(file_name='C:/Users/pr8745/ud/deep-reinforcement-learning/p2_continuous-control/Reacher_Windows_x86_64_1agent/Reacher.exe')\n",
    "env = UnityEnvironment(file_name='C:/Users/pr8745/ud/deep-reinforcement-learning/p2_continuous-control/Reacher_Windows_x86_64_20agents/Reacher.exe')"
   ]
  },
  {
   "cell_type": "markdown",
   "metadata": {},
   "source": [
    "Environments contain **_brains_** which are responsible for deciding the actions of their associated agents. Here we check for the first brain available, and set it as the default brain we will be controlling from Python."
   ]
  },
  {
   "cell_type": "code",
   "execution_count": 4,
   "metadata": {},
   "outputs": [],
   "source": [
    "# get the default brain\n",
    "brain_name = env.brain_names[0]\n",
    "brain = env.brains[brain_name]"
   ]
  },
  {
   "cell_type": "markdown",
   "metadata": {},
   "source": [
    "### 2. Examine the State and Action Spaces\n",
    "\n",
    "In this environment, a double-jointed arm can move to target locations. A reward of `+0.1` is provided for each step that the agent's hand is in the goal location. Thus, the goal of your agent is to maintain its position at the target location for as many time steps as possible.\n",
    "\n",
    "The observation space consists of `33` variables corresponding to position, rotation, velocity, and angular velocities of the arm.  Each action is a vector with four numbers, corresponding to torque applicable to two joints.  Every entry in the action vector must be a number between `-1` and `1`.\n",
    "\n",
    "Run the code cell below to print some information about the environment."
   ]
  },
  {
   "cell_type": "code",
   "execution_count": 5,
   "metadata": {},
   "outputs": [
    {
     "name": "stdout",
     "output_type": "stream",
     "text": [
      "Number of agents: 20\n",
      "Size of each action: 4\n",
      "There are 20 agents. Each observes a state with length: 33\n",
      "The state for the first agent looks like: [ 0.00000000e+00 -4.00000000e+00  0.00000000e+00  1.00000000e+00\n",
      " -0.00000000e+00 -0.00000000e+00 -4.37113883e-08  0.00000000e+00\n",
      "  0.00000000e+00  0.00000000e+00  0.00000000e+00  0.00000000e+00\n",
      "  0.00000000e+00  0.00000000e+00 -1.00000000e+01  0.00000000e+00\n",
      "  1.00000000e+00 -0.00000000e+00 -0.00000000e+00 -4.37113883e-08\n",
      "  0.00000000e+00  0.00000000e+00  0.00000000e+00  0.00000000e+00\n",
      "  0.00000000e+00  0.00000000e+00  5.75471878e+00 -1.00000000e+00\n",
      "  5.55726624e+00  0.00000000e+00  1.00000000e+00  0.00000000e+00\n",
      " -1.68164849e-01]\n"
     ]
    }
   ],
   "source": [
    "# reset the environment\n",
    "env_info = env.reset(train_mode=True)[brain_name]\n",
    "\n",
    "# number of agents\n",
    "num_agents = len(env_info.agents)\n",
    "print('Number of agents:', num_agents)\n",
    "\n",
    "# size of each action\n",
    "action_size = brain.vector_action_space_size\n",
    "print('Size of each action:', action_size)\n",
    "\n",
    "# examine the state space \n",
    "states = env_info.vector_observations\n",
    "state_size = states.shape[1]\n",
    "print('There are {} agents. Each observes a state with length: {}'.format(states.shape[0], state_size))\n",
    "print('The state for the first agent looks like:', states[0])"
   ]
  },
  {
   "cell_type": "markdown",
   "metadata": {},
   "source": [
    "### 3. Take Random Actions in the Environment\n",
    "\n",
    "In the next code cell, you will learn how to use the Python API to control the agent and receive feedback from the environment.\n",
    "\n",
    "Once this cell is executed, you will watch the agent's performance, if it selects an action at random with each time step.  A window should pop up that allows you to observe the agent, as it moves through the environment.  \n",
    "\n",
    "Of course, as part of the project, you'll have to change the code so that the agent is able to use its experience to gradually choose better actions when interacting with the environment!"
   ]
  },
  {
   "cell_type": "markdown",
   "metadata": {},
   "source": [
    "When finished, you can close the environment."
   ]
  },
  {
   "cell_type": "markdown",
   "metadata": {},
   "source": [
    "env.close()"
   ]
  },
  {
   "cell_type": "markdown",
   "metadata": {},
   "source": [
    "### 4. It's Your Turn!\n",
    "\n",
    "Now it's your turn to train your own agent to solve the environment!  When training the environment, set `train_mode=True`, so that the line for resetting the environment looks like the following:\n",
    "```python\n",
    "env_info = env.reset(train_mode=True)[brain_name]\n",
    "```"
   ]
  },
  {
   "cell_type": "code",
   "execution_count": 6,
   "metadata": {},
   "outputs": [],
   "source": [
    "env_info = env.reset(train_mode=False)[brain_name]     # reset the environment    \n",
    "states = env_info.vector_observations                  # get the current state (for each agent)\n",
    "scores = np.zeros(num_agents)                          # initialize the score (for each agent)\n",
    "\n",
    "state_sz = brain.vector_observation_space_size\n",
    "action_sz = brain.vector_action_space_size\n",
    "#my_agents = [my_agent.my_ddpg_agent(state_sz,action_sz,1,-1) for i in range(num_agents)]\n",
    "#ud_agents = [ud_agent.Agent(state_sz,action_sz,1) for i in range(num_agents)]\n",
    "#agent = ud_agent(state_sz,action_sz,1)\n",
    "agent = my_agent.my_ddpg_agent(state_sz,action_sz,1,-1)\n",
    "scores = []\n",
    "scores_deque = deque(maxlen=100)"
   ]
  },
  {
   "cell_type": "code",
   "execution_count": 7,
   "metadata": {
    "scrolled": true
   },
   "outputs": [
    {
     "name": "stderr",
     "output_type": "stream",
     "text": [
      "C:\\Users\\pr8745\\ud\\deep-reinforcement-learning\\p2_continuous-control\\my_agent.py:176: UserWarning: torch.nn.utils.clip_grad_norm is now deprecated in favor of torch.nn.utils.clip_grad_norm_.\n",
      "  torch.nn.utils.clip_grad_norm(self.critic_m.parameters(), 1)\n"
     ]
    },
    {
     "name": "stdout",
     "output_type": "stream",
     "text": [
      "Episode 0\t Average Score: 0.716499983984977\n",
      "Episode 10\t Average Score: 0.9683181601745838\n",
      "Episode 20\t Average Score: 1.2403571151330002\n",
      "Episode 30\t Average Score: 1.5274838368258168\n",
      "Episode 40\t Average Score: 2.538414577408353\n",
      "Episode 50\t Average Score: 5.677568500547433\n",
      "Episode 60\t Average Score: 10.282942393109142\n",
      "Episode 70\t Average Score: 14.196696865777682\n",
      "Episode 80\t Average Score: 17.23047492351084\n",
      "Episode 90\t Average Score: 19.61815340765394\n",
      "Episode 100\t Average Score: 21.735724514168687\n",
      "Episode 110\t Average Score: 25.538699429165572\n",
      "Episode 120\t Average Score: 29.283134345470927\n",
      "Episode 130\t Average Score: 32.99457426251378\n",
      "Episode 140\t Average Score: 36.3589241873147\n",
      "Episode 150\t Average Score: 38.41144914143719\n",
      "Episode 160\t Average Score: 38.91215913024545\n",
      "Episode 170\t Average Score: 38.960214129171334\n",
      "Episode 180\t Average Score: 38.90632413037587\n",
      "Episode 190\t Average Score: 38.8352141319653\n"
     ]
    }
   ],
   "source": [
    "for x in range(200):\n",
    "    env_info = env.reset(train_mode=True)[brain_name]\n",
    "    states = env_info.vector_observations\n",
    "    score = np.zeros(num_agents)\n",
    "    agent.reset()\n",
    "    while True:\n",
    "        actions = [agent.act(state) for state in states]\n",
    "        #action = agent.act(state)\n",
    "        env_info = env.step(actions)[brain_name]\n",
    "        next_states = env_info.vector_observations\n",
    "        rewards = env_info.rewards\n",
    "        dones = env_info.local_done\n",
    "        score += env_info.rewards\n",
    "        #for i in range(num_agents):\n",
    "            #agents[i].learn_from_env_response(states[i], actions[i], next_states[i], rewards[i], dones[i])\n",
    "        for i in range(num_agents):\n",
    "            agent.step(states[i], actions[i], rewards[i], next_states[i], dones[i])\n",
    "        states = next_states\n",
    "        if any(dones):\n",
    "            break\n",
    "    scores.append(score)\n",
    "    with open('agent_scores.py','a') as scores_fl:\n",
    "        scores_fl.write(repr(list(score)))\n",
    "        scores_fl.write(\"\\n\")\n",
    "    scores_deque.append(score)\n",
    "    if( x%10 == 0):\n",
    "        torch.save(agent.actor_m.state_dict(), 'actor_checkpoint.pth')\n",
    "        torch.save(agent.critic_m.state_dict(), 'critic_checkpoint.pth')\n",
    "        #torch.save(agent.actor_local.state_dict(), 'actor_checkpoint.pth')\n",
    "        #torch.save(agent.critic_local.state_dict(), 'critic_checkpoint.pth')\n",
    "        \n",
    "        print(\"Episode {}\\t Average Score: {}\".format(x,np.mean(scores_deque)))"
   ]
  },
  {
   "cell_type": "markdown",
   "metadata": {},
   "source": [
    "We trained the agent. Lets see plot for average score by each episode!"
   ]
  },
  {
   "cell_type": "code",
   "execution_count": 9,
   "metadata": {},
   "outputs": [
    {
     "name": "stdout",
     "output_type": "stream",
     "text": [
      "No of episodes completed:  200\n"
     ]
    },
    {
     "data": {
      "image/png": "[encoded data removed]",
      "text/plain": [
       "<Figure size 1080x720 with 1 Axes>"
      ]
     },
     "metadata": {
      "needs_background": "light"
     },
     "output_type": "display_data"
    }
   ],
   "source": [
    "scores_mean = [np.mean(a) for a in scores]\n",
    "print(\"No of episodes completed: \", len(scores_mean))\n",
    "plt.figure(figsize=(15,10))\n",
    "plt.plot(scores_mean)\n",
    "plt.axhline(y=30, color='r')\n",
    "plt.ylabel('score')\n",
    "plt.xlabel('episode')\n",
    "plt.grid(True)"
   ]
  },
  {
   "cell_type": "code",
   "execution_count": 32,
   "metadata": {},
   "outputs": [
    {
     "data": {
      "text/plain": [
       "30.0293593287915"
      ]
     },
     "execution_count": 32,
     "metadata": {},
     "output_type": "execute_result"
    }
   ],
   "source": [
    "np.mean(scores_mean[23:123])"
   ]
  },
  {
   "cell_type": "code",
   "execution_count": 34,
   "metadata": {},
   "outputs": [
    {
     "data": {
      "text/plain": [
       "[24.476999452896415,\n",
       " 27.128499393630772,\n",
       " 29.808499333728104,\n",
       " 31.4619992967695,\n",
       " 35.4489992076531,\n",
       " 34.18449923591688,\n",
       " 34.271999233961104,\n",
       " 35.20899921301752,\n",
       " 36.362999187223615,\n",
       " 36.170499191526325]"
      ]
     },
     "execution_count": 34,
     "metadata": {},
     "output_type": "execute_result"
    }
   ],
   "source": [
    "scores_mean[50:60]"
   ]
  },
  {
   "cell_type": "markdown",
   "metadata": {},
   "source": [
    "### We got a 100-episode-average-score of >30 at episode 123. So the environment was solved in 23 episodes.\n",
    "\n",
    "After episode 53, the agent achieved a >35 score consistently\n",
    "\n",
    "Saving the agents actor and critic models to files."
   ]
  },
  {
   "cell_type": "code",
   "execution_count": 15,
   "metadata": {},
   "outputs": [],
   "source": [
    "torch.save({'state_dict':agent.actor_m.state_dict()},'my_actor.200.pth')\n",
    "torch.save({'state_dict':agent.critic_m.state_dict()},'my_critic.200.pth')"
   ]
  },
  {
   "cell_type": "markdown",
   "metadata": {},
   "source": [
    "### Evaluation time!\n",
    "Lets create a eval agent. Load the actor and critic models from the saved files"
   ]
  },
  {
   "cell_type": "code",
   "execution_count": 17,
   "metadata": {},
   "outputs": [],
   "source": [
    "eval_agent = my_agent.my_ddpg_agent(state_sz,action_sz,1,-1)\n",
    "sd = torch.load('my_actor.200.pth')['state_dict']\n",
    "eval_agent.actor_m.load_state_dict(sd)\n",
    "sd = torch.load('my_critic.200.pth')['state_dict']\n",
    "eval_agent.critic_m.load_state_dict(sd)"
   ]
  },
  {
   "cell_type": "code",
   "execution_count": 28,
   "metadata": {},
   "outputs": [
    {
     "name": "stdout",
     "output_type": "stream",
     "text": [
      "Scores of the individual agents:  [39.40999912 39.45999912 39.57999912 37.53999916 37.35999916 39.66999911\n",
      " 39.59999911 39.58999912 39.53999912 39.58999912 39.58999912 39.52999912\n",
      " 39.50999912 39.31999912 39.48999912 39.44999912 39.58999912 39.34999912\n",
      " 35.31999921 39.56999912]\n",
      "Average score:  39.10299912597984\n"
     ]
    }
   ],
   "source": [
    "env_info = env.reset(train_mode=False)[brain_name]\n",
    "states = env_info.vector_observations\n",
    "score = np.zeros(num_agents)\n",
    "eval_agent.actor_m.eval()\n",
    "eval_agent.critic_m.eval()\n",
    "while True:\n",
    "    actions = [eval_agent.act(state,train_mode=False) for state in states]\n",
    "    env_info = env.step(actions)[brain_name]\n",
    "    next_states = env_info.vector_observations\n",
    "    rewards = env_info.rewards\n",
    "    dones = env_info.local_done\n",
    "    score += env_info.rewards\n",
    "    #for i in range(num_agents):\n",
    "    #    agent.step(states[i], actions[i], rewards[i], next_states[i], dones[i])\n",
    "    states = next_states\n",
    "    if any(dones):\n",
    "        break\n",
    "print(\"Scores of the individual agents: \",score)\n",
    "print(\"Average score: \",score.mean())"
   ]
  },
  {
   "cell_type": "markdown",
   "metadata": {},
   "source": [
    "### We achieved an average score of +39 across all 20 agents!!"
   ]
  }
 ],
 "metadata": {
  "kernelspec": {
   "display_name": "drlnd",
   "language": "python",
   "name": "drlnd"
  },
  "language_info": {
   "codemirror_mode": {
    "name": "ipython",
    "version": 3
   },
   "file_extension": ".py",
   "mimetype": "text/x-python",
   "name": "python",
   "nbconvert_exporter": "python",
   "pygments_lexer": "ipython3",
   "version": "3.6.10"
  }
 },
 "nbformat": 4,
 "nbformat_minor": 2
}
